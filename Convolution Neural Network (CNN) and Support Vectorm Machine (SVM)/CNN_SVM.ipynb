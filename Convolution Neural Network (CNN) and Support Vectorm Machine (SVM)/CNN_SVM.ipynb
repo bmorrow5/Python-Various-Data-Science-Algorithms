{
 "cells": [
  {
   "cell_type": "markdown",
   "metadata": {},
   "source": [
    "# Brandon L Morrow"
   ]
  },
  {
   "cell_type": "markdown",
   "metadata": {},
   "source": [
    "# Convolution Neural Network \n",
    "We will use a built-in Convolutional Neural Network (CNN) using either the MNIST data sets and show the classification accuracy:<br>"
   ]
  },
  {
   "cell_type": "code",
   "execution_count": 148,
   "metadata": {},
   "outputs": [
    {
     "name": "stdout",
     "output_type": "stream",
     "text": [
      "\n",
      "Input shapes:\n",
      "x_train shape: (60000, 28, 28)\n",
      "x_test shape: (10000, 28, 28)\n",
      "y_train shape: (60000,)\n",
      "y_test shape: (10000,)\n",
      "\n",
      "Updated shapes:\n",
      "x_train shape: (60000, 28, 28, 1)\n",
      "x_test shape: (10000, 28, 28, 1)\n",
      "y_train shape: (60000,)\n",
      "y_test shape: (10000,)\n"
     ]
    },
    {
     "data": {
      "text/plain": [
       "<matplotlib.image.AxesImage at 0x2c4780afc70>"
      ]
     },
     "execution_count": 148,
     "metadata": {},
     "output_type": "execute_result"
    },
    {
     "data": {
      "image/png": "[encoded data removed]",
      "text/plain": [
       "<Figure size 100x100 with 1 Axes>"
      ]
     },
     "metadata": {},
     "output_type": "display_data"
    }
   ],
   "source": [
    "# I was forced to update tensorflow in environment to use on CNN\n",
    "# load libraries\n",
    "import numpy as np\n",
    "import pandas as pd\n",
    "import tensorflow as tf\n",
    "import matplotlib.pyplot as plt\n",
    "\n",
    "# load dataset\n",
    "mnist = tf.keras.datasets.mnist\n",
    "(x_train, y_train), (x_test, y_test) = mnist.load_data()\n",
    "\n",
    "# Lets confirm the shapes are what we want them to be\n",
    "print(f\"\\nInput shapes:\")\n",
    "print(f\"x_train shape: {x_train.shape}\")\n",
    "print(f\"x_test shape: {x_test.shape}\")\n",
    "print(f\"y_train shape: {y_train.shape}\")\n",
    "print(f\"y_test shape: {y_test.shape}\")\n",
    "\n",
    "# Lets reshape the data to be 4 dimensional to match layer input size for our CNN\n",
    "x_train = x_train.reshape(60000,28,28,1)\n",
    "x_test = x_test.reshape(10000,28,28,1)\n",
    "\n",
    "# Lets confirm the shapes are what we want them to be\n",
    "print(f\"\\nUpdated shapes:\")\n",
    "print(f\"x_train shape: {x_train.shape}\")\n",
    "print(f\"x_test shape: {x_test.shape}\")\n",
    "print(f\"y_train shape: {y_train.shape}\")\n",
    "print(f\"y_test shape: {y_test.shape}\")\n",
    "\n",
    "# Now lets look at the first image to confirm data properly loaded\n",
    "fig = plt.figure(figsize=(1,1)) # Shrinks the image\n",
    "plt.axis('off') \n",
    "plt.imshow(x_train[0], cmap=\"gray\")"
   ]
  },
  {
   "cell_type": "code",
   "execution_count": 149,
   "metadata": {},
   "outputs": [
    {
     "name": "stdout",
     "output_type": "stream",
     "text": [
      "Tensorflow not utilizing GPU\n",
      "Training may take a long time without using GPU\n",
      "\n",
      "Available devices:\n",
      "[PhysicalDevice(name='/physical_device:CPU:0', device_type='CPU')]\n"
     ]
    }
   ],
   "source": [
    "# Check for GPU support\n",
    "if tf.test.gpu_device_name():\n",
    "    print('Default GPU Device: {}'.format(tf.test.gpu_device_name()))\n",
    "else:\n",
    "    print(\"Tensorflow not utilizing GPU\")\n",
    "    print(\"Training may take a long time without using GPU\")\n",
    "\n",
    "# Show available devices\n",
    "devices = tf.config.list_physical_devices()\n",
    "print(f\"\\nAvailable devices:\\n{devices}\")"
   ]
  },
  {
   "cell_type": "code",
   "execution_count": 150,
   "metadata": {},
   "outputs": [
    {
     "data": {
      "text/plain": [
       "array([0., 0., 0., 0., 0., 1., 0., 0., 0., 0.], dtype=float32)"
      ]
     },
     "execution_count": 150,
     "metadata": {},
     "output_type": "execute_result"
    }
   ],
   "source": [
    "# Now lets start to build the neural network\n",
    "from keras.utils import to_categorical\n",
    "y_train = to_categorical(y_train)\n",
    "y_test = to_categorical(y_test)\n",
    "y_train[0]  # Lets confirm the number is a 5"
   ]
  },
  {
   "cell_type": "code",
   "execution_count": 151,
   "metadata": {},
   "outputs": [],
   "source": [
    "from keras.models import Sequential\n",
    "from keras.layers import Dense, Conv2D, Flatten\n",
    "# Create model\n",
    "model = Sequential()\n",
    "\n",
    "# Add model layers\n",
    "model.add(Conv2D(64, kernel_size=3, activation='relu', input_shape=(28,28,1))) # 2D convolutional layer with 64 filters\n",
    "model.add(Conv2D(32, kernel_size=3, activation='relu')) # Second layer with 32 filters\n",
    "model.add(Flatten()) # Turns previous layer into one dimension for the next dense layer\n",
    "model.add(Dense(10, activation='softmax')) # Adds dense layer with 10 outputs for 10 digits. Softmax converts to probabilities\n",
    "\n",
    "# Compile model using accuracy to measure model performance\n",
    "model.compile(optimizer='adam', loss='categorical_crossentropy', metrics=['accuracy'])"
   ]
  },
  {
   "cell_type": "code",
   "execution_count": 152,
   "metadata": {},
   "outputs": [
    {
     "name": "stdout",
     "output_type": "stream",
     "text": [
      "1875/1875 [==============================] - 47s 25ms/step - loss: 0.2571 - accuracy: 0.9534 - val_loss: 0.0883 - val_accuracy: 0.9720\n"
     ]
    },
    {
     "data": {
      "text/plain": [
       "<keras.callbacks.History at 0x2c4780af970>"
      ]
     },
     "execution_count": 152,
     "metadata": {},
     "output_type": "execute_result"
    }
   ],
   "source": [
    "# Train/fit the model\n",
    "model.fit(x_train, y_train, validation_data=(x_test, y_test), epochs=1) # Would do more than 1 epoch but takes too long"
   ]
  },
  {
   "cell_type": "code",
   "execution_count": 153,
   "metadata": {},
   "outputs": [
    {
     "name": "stdout",
     "output_type": "stream",
     "text": [
      "313/313 [==============================] - 1s 4ms/step\n",
      "[7 2 1 0 4 1 4 9 6 9 0 6 9 0 1 5 9 7 5 4 9 6 6 5 4 0 7 4 0 1]\n",
      "[7 2 1 0 4 1 4 9 5 9 0 6 9 0 1 5 9 7 3 4 9 6 6 5 4 0 7 4 0 1]\n",
      "Test set accuracy: 97.2 %\n"
     ]
    }
   ],
   "source": [
    "# Lets predict the test set\n",
    "predicted = model.predict(x_test)\n",
    "actual = y_test\n",
    "\n",
    "# Convert predicted probabilities to class labels\n",
    "predicted_indices = np.argmax(predicted, axis=1)\n",
    "actual_indices = np.argmax(actual, axis=1)\n",
    "\n",
    "# Lets compare the first 30 predictions to the actual values\n",
    "print(predicted_indices[:30])\n",
    "print(actual_indices[:30]) \n",
    "\n",
    "# Calculate accuracy as the fraction of correct predictions\n",
    "accuracy = np.mean(predicted_indices == actual_indices)\n",
    "\n",
    "# print the accuracy\n",
    "print('Test set accuracy:', accuracy * 100, '%')\n"
   ]
  },
  {
   "attachments": {},
   "cell_type": "markdown",
   "metadata": {},
   "source": [
    "As we would expect we see that the predictions line up well with the test data on first 30 values. Lets be safe double check our results"
   ]
  },
  {
   "cell_type": "code",
   "execution_count": 154,
   "metadata": {},
   "outputs": [
    {
     "name": "stdout",
     "output_type": "stream",
     "text": [
      "predicted = [7. 2. 1. 0. 4.]\n",
      "actual = [7. 2. 1. 0. 4.]\n"
     ]
    }
   ],
   "source": [
    "# Now lets double check the first five numbers match their actual pictures\n",
    "predicted_values = np.zeros(5)\n",
    "actual_values = np.zeros(5)\n",
    "for i in range(5):\n",
    "    predicted_values[i] = np.argmax(predicted[i])\n",
    "    actual_values[i] = np.argmax(actual[i])\n",
    "print(f\"predicted = {predicted_values}\")\n",
    "print(f\"actual = {actual_values}\")"
   ]
  },
  {
   "cell_type": "code",
   "execution_count": 155,
   "metadata": {},
   "outputs": [
    {
     "data": {
      "image/png": "[encoded data removed]",
      "text/plain": [
       "<Figure size 500x200 with 5 Axes>"
      ]
     },
     "metadata": {},
     "output_type": "display_data"
    }
   ],
   "source": [
    "# Now lets plot the first 5 images in the test set to confirm the predictions\n",
    "fig, axes = plt.subplots(nrows=1, ncols=5, figsize=(5, 2))\n",
    "\n",
    "for i, ax in enumerate(axes.flatten()):\n",
    "    ax.imshow(x_test[i], cmap=\"gray\")\n",
    "    ax.set_title(f\"Image: {i}\")\n",
    "    ax.axis('off')\n",
    "plt.tight_layout()\n",
    "plt.show()"
   ]
  },
  {
   "attachments": {},
   "cell_type": "markdown",
   "metadata": {},
   "source": [
    "<b> We can see that our predicted and actual values line up with what we would expect to see from the model. We also saw a test accuracy of  97.59% Which is to be expected for our neural network, and confirming the first values appears that the implementation of the CNN is correct"
   ]
  },
  {
   "cell_type": "markdown",
   "metadata": {},
   "source": [
    "# Support Vector Machine"
   ]
  },
  {
   "cell_type": "markdown",
   "metadata": {},
   "source": [
    "1. Pseudocode for an SVM classifier using a linear and separately an rbf kernel.<br><br>\n",
    "2. Analyzes the runtime of your design in big O notation and calculate a total runtime such that each line of psuedocode is accounted for.<br><br>\n",
    "3. Implementation of SVM using Python:<br><br>\n",
    "    - Train three two class models using the Iris dataset as input training data, the Iris data will need to be reconfigured as a one vs. all or one vs. one data set.\n",
    "    - Process the test data set to determine which class each test observation belongs to, in this problem you will simply use all 150 observations as your test data.\n",
    "    - What is the classification accuracy?\n",
    "    - Is there a difference in performance between the two kernels? "
   ]
  },
  {
   "attachments": {},
   "cell_type": "markdown",
   "metadata": {},
   "source": [
    "# Part 1 Psuedocode #\n",
    "\n",
    "Import libraries\n",
    "\n",
    "Import iris\n",
    "\n",
    "## function linear_kernel(x1, x2):<b> \n",
    "    return np.dot(x1, x2)\n",
    "\n",
    "## function rbf_kernel(x1, x2, gamma): \n",
    "    distance = np.linalg.norm(x1 - x2) ** 2\n",
    "    return np.exp(-gamma * distance)\n",
    "\n",
    "## function train_SVM(x, x, options):\n",
    "\n",
    "    kernel_name, arg, c = options['kernel'], options['arg'], options['c']\n",
    "    mu = 1e-12\n",
    "    num_data = x.shape\n",
    "    \n",
    "    K = kernel_SVM(x, x, kernel_name, arg)\n",
    "    \n",
    "    H = np.multiply(K, np.outer(y, y))\n",
    "    H = H + (mu * np.eye(H.shape[0]))\n",
    "        \n",
    "    # Now set up the optimization problem\n",
    "    P = cvxopt.matrix(P, tc='d')\n",
    "    q = cvxopt.matrix(q, tc='d')\n",
    "    G = cvxopt.matrix(G, tc='d')\n",
    "    h = cvxopt.matrix(h, tc='d')\n",
    "    A = cvxopt.matrix(A, tc='d')\n",
    "    b = cvxopt.matrix(b, tc='d')\n",
    "    cvxopt.solvers.options['show_progress'] = False\n",
    "    sol = cvxopt.solvers.qp(P, q, G, h, A, b)\n",
    "    \n",
    "    alpha = sol['x']\n",
    "    epsi = 1e-12 \n",
    "    \n",
    "    # Now lets get the support and boundary vector boundaries\n",
    "    sv_inx = where(alpha > epsi)\n",
    "    boundary_inx = get boundary index locaiton\n",
    "    dec_boundary = decision boundary formula # Confirmed with matlab\n",
    "\n",
    "    prediction = K @ alpha + dec_boundary \n",
    "    temp = np.ones(num_data)\n",
    "    temp[np.where(prediction < 0)] = -1 # set all values less than 0 to -1\n",
    "    err = np.sum(np.abs(temp - y)) / num_data * 100\n",
    "\n",
    "    model = {\n",
    "        'alpha': alpha[sv_inx],\n",
    "        'dec_boundary': dec_boundary,\n",
    "        'options': options,\n",
    "        'svX': x[sv_inx, :],\n",
    "        'err': err,\n",
    "        'sv_y': y[sv_inx],\n",
    "        'sv_indx': np.where(sv_inx)[0],\n",
    "        'numberSV': np.sum(sv_inx)\n",
    "    }\n",
    "\n",
    "    return model\n",
    "\n",
    "## function classify_SVM(x, model):\n",
    "\n",
    "    extract values from model\n",
    "    K = kernel_SVM(x, svX, kernel, arg)\n",
    "    prediction = np.dot(K, alpha) + dec_boundary\n",
    "    return prediction\n",
    "\n",
    "\n",
    "## functions SVM(kernel_name, arg, c):    \n",
    "\n",
    "    # Add inputs to list options\n",
    "    kernel_name, arg, c = options['kernel'], options['arg'], options['c']\n",
    "\n",
    "    setosa = iris.data.toNumpy(replace setosa = 1, replace versicolor = -1, replace virginica = -1)\n",
    "    versicolor = iris.data.toNumpy(replace setosa = -1, replace versicolor = 1, replace virginica = -1)\n",
    "    virginica = iris.data.toNumpy(replace setosa = -1, replace versicolor = -1, replace virginica = 1)\n",
    "    \n",
    "    iris_y = setosa + versicolor + virginica\n",
    "    iris_x = iris[features]\n",
    "\n",
    "    # Train the models\n",
    "    model1 = train_SVM(dataX, setosa_y, options)\n",
    "    model2 = train_SVM(dataX, versicolor_y, options)\n",
    "    model3 = train_SVM(dataX, virginica_y, options)\n",
    "\n",
    "    # Now classify using the trained models\n",
    "    ypred1 = rbf_classify(iris_x, model1)\n",
    "    ypred2 = rbf_classify(iris_x, model2)\n",
    "    ypred3 = rbf_classify(iris_x, model3)\n",
    "    predictions = ypred1 + ypred2 + ypred3\n",
    "\n",
    "    # Combine the predictions and calculate the accuracy\n",
    "    tmp = pred_setosa + pred_versicolor + pred_virginica\n",
    "    pred_classes = np.argmax(tmp)\n",
    "    \n",
    "    true_classes = iris_df.iloc[:, -1].replace({'setosa': 0, 'versicolor': 1, 'virginica': 2}).values\n",
    "    accuracy = sum(pred_classes == true_classes) / len(true_classes) * 100\n",
    "    misclassified = np.where(true_classes != pred_classes) # get indexes of misclassifications\n",
    "\n",
    "    print(Kernel: {kernel_name})\n",
    "    print(Arg: {arg})\n",
    "    print(C: {c})\n",
    "    print(Classification accuracy: {accuracy}%)\n",
    "    print(Misclassified: {len(misclassified)})\n",
    "    print(Misclassified Indices: {misclassified})\n",
    "    print(Predicted valuess: {pred_classes})\n",
    "    print(Actual Values: {true_classes})\n",
    " "
   ]
  },
  {
   "attachments": {},
   "cell_type": "markdown",
   "metadata": {},
   "source": [
    "## Part 2 O(n) Analysis: ##\n",
    "The time complexity of the algorithm should be mostly impacted by the effect of the nested for loops to calculate the kernel functions this function brings the complexity to O(n^2)\n"
   ]
  },
  {
   "attachments": {},
   "cell_type": "markdown",
   "metadata": {},
   "source": [
    "## Part 3 Implementation:"
   ]
  },
  {
   "cell_type": "code",
   "execution_count": 156,
   "metadata": {},
   "outputs": [],
   "source": [
    "# Import libraries\n",
    "import numpy as np\n",
    "import pandas as pd\n",
    "import matplotlib.pyplot as plt\n",
    "import seaborn as sns\n",
    "import cvxopt\n",
    "\n",
    "# This will define the different kernel functions\n",
    "def kernel(x1, x2, kernel_name, arg):\n",
    "    if kernel_name == 'linear': # Linear kernel\n",
    "        k = x1.T @ x2\n",
    "    elif kernel_name == 'rbf': # Radial Basis Function kernel\n",
    "        squared_diff = np.sum((x1 - x2) ** 2)\n",
    "        k = np.exp(-0.5 * squared_diff / (arg ** 2))\n",
    "    else:\n",
    "        raise ValueError(f\"Invalid kernel type '{kernel_name}'\")\n",
    "    return k"
   ]
  },
  {
   "cell_type": "code",
   "execution_count": 157,
   "metadata": {},
   "outputs": [],
   "source": [
    "# Validated\n",
    "# This will choose the correct kernel function to use\n",
    "def kernel_SVM(x1, x2, kernel_name, arg):\n",
    "    row1 = x1.shape[0]\n",
    "    row2 = x2.shape[0] \n",
    "    k = np.zeros((row1, row2))\n",
    "    for i in range(row1):\n",
    "        for j in range(row2):\n",
    "            k[i, j] = kernel(x1[i, :], x2[j, :], kernel_name, arg)\n",
    "    return k"
   ]
  },
  {
   "cell_type": "code",
   "execution_count": 158,
   "metadata": {},
   "outputs": [],
   "source": [
    "# This class will train the SVM\n",
    "def train_SVM(x, y, options):\n",
    "\n",
    "    kernel_name, arg, c = options['kernel'], options['arg'], options['c']\n",
    "    mu = 1e-7 # Compensates for floating point errors\n",
    "    num_data = x.shape[0]\n",
    "    \n",
    "    K = kernel_SVM(x, x, kernel_name, arg)\n",
    "    \n",
    "    H = np.multiply(K, np.outer(y, y))\n",
    "    H = H + (mu * np.eye(H.shape[0]))\n",
    "        \n",
    "    # Now set up the optimization problem\n",
    "    P = np.outer(y,y) * H\n",
    "    q = -np.ones(num_data)\n",
    "    G = np.vstack([-np.eye(num_data), np.eye(num_data)])\n",
    "    h = np.hstack([np.zeros(num_data), c*np.ones(num_data)])\n",
    "    A = y.reshape(1,-1)\n",
    "    b = np.array([0.])\n",
    "    # print(f\"\\nP Shape: {P.shape}\")\n",
    "    # print(f\"q Shape: {q.shape}\")\n",
    "    # print(f\"G Shape: {G.shape}\")\n",
    "    # print(f\"h Shape: {h.shape}\")\n",
    "    # print(f\"A Shape: {A.shape}\")\n",
    "    # print(f\"b Shape: {b.shape}\")\n",
    "    \n",
    "    P = cvxopt.matrix(P, tc='d')\n",
    "    q = cvxopt.matrix(q, tc='d')\n",
    "    G = cvxopt.matrix(G, tc='d')\n",
    "    h = cvxopt.matrix(h, tc='d')\n",
    "    A = cvxopt.matrix(A, tc='d')\n",
    "    b = cvxopt.matrix(b, tc='d')\n",
    "    cvxopt.solvers.options['show_progress'] = False\n",
    "    sol = cvxopt.solvers.qp(P, q, G, h, A, b)\n",
    "    \n",
    "    alpha = np.array(sol['x']).flatten() # Output validated with matlab    \n",
    "    epsi = 1e-7  # This is to compensate for float point arithmatic \n",
    "    \n",
    "    # Now lets get the support and boundary vector boundaries\n",
    "    sv_inx = np.where(alpha > epsi)[0]  \n",
    "    boundary_inx = np.where(((c - epsi) > alpha) & (alpha > epsi))[0]\n",
    "\n",
    "    if len(boundary_inx) > 0:\n",
    "        dec_boundary = np.sum(y[boundary_inx] - (H[boundary_inx][:, sv_inx] @ (alpha[sv_inx] * y[sv_inx]))) / len(boundary_inx) \n",
    "    else:\n",
    "        dec_boundary = 0\n",
    "    \n",
    "    prediction = K @ alpha + dec_boundary \n",
    "    temp = np.ones(num_data)\n",
    "    temp[np.where(prediction < 0)] = -1 # set all values less than 0 to -1\n",
    "    err = np.sum(np.abs(temp - y)) / num_data * 100\n",
    "    \n",
    "    model = {\n",
    "        'alpha': alpha[sv_inx],\n",
    "        'dec_boundary': dec_boundary,\n",
    "        'options': options,\n",
    "        'svX': x[sv_inx, :],\n",
    "        'err': err,\n",
    "        'sv_y': y[sv_inx],\n",
    "        'sv_indx': np.where(sv_inx)[0],\n",
    "        'numberSV': np.sum(sv_inx)\n",
    "    }\n",
    "\n",
    "    return model"
   ]
  },
  {
   "cell_type": "code",
   "execution_count": 159,
   "metadata": {},
   "outputs": [],
   "source": [
    "def classify_SVM(x, model):\n",
    "    alpha = model['alpha']\n",
    "    dec_boundary = model['dec_boundary']\n",
    "    svX = model['svX']\n",
    "    kernel = model['options']['kernel']\n",
    "    arg = model['options']['arg']\n",
    "\n",
    "    K = kernel_SVM(x, svX, kernel, arg)\n",
    "    prediction = np.dot(K, alpha) + dec_boundary\n",
    "    return prediction"
   ]
  },
  {
   "cell_type": "code",
   "execution_count": 160,
   "metadata": {},
   "outputs": [],
   "source": [
    "## Type the code for part 3 here ##\n",
    "\n",
    "# We will implement an SVM classifier from scratch. This classifier will be one vs all\n",
    "# import libraries\n",
    "import numpy as np\n",
    "import pandas as pd\n",
    "from sklearn.preprocessing import StandardScaler\n",
    "import seaborn as sns\n",
    "\n",
    "def SVM(kernel_name, arg, c, n_splits=5):\n",
    "    \n",
    "    iris_df = pd.read_csv(\"iris.csv\")\n",
    "    options = {'kernel': kernel_name, 'arg': arg, 'c': c}\n",
    "\n",
    "    # Now create one vs all arrays that are [150,]\n",
    "    iris_setosa_y = iris_df.iloc[:, -1].replace({'setosa': 1, 'versicolor': -1, 'virginica': -1}).values\n",
    "    iris_versicolor_y = iris_df.iloc[:, -1].replace({'setosa': -1, 'versicolor': 1, 'virginica': -1}).values\n",
    "    iris_virginica_y = iris_df.iloc[:, -1].replace({'setosa': -1, 'versicolor': -1, 'virginica': 1}).values    \n",
    "    iris_x = iris_df.iloc[:, 2:4].values # Will be [150 x 2] to match the matlab code\n",
    "    \n",
    "    scaler = StandardScaler()\n",
    "    iris_x = scaler.fit_transform(iris_x) # Standardize the data\n",
    "    \n",
    "    # Train the models\n",
    "    model1 = train_SVM(iris_x, iris_setosa_y, options)\n",
    "    model2 = train_SVM(iris_x, iris_versicolor_y, options)\n",
    "    model3 = train_SVM(iris_x, iris_virginica_y, options)\n",
    "\n",
    "    # Classify the data using the trained models\n",
    "    pred_setosa = classify_SVM(iris_x, model1)\n",
    "    pred_versicolor = classify_SVM(iris_x, model2)\n",
    "    pred_virginica = classify_SVM(iris_x, model3)\n",
    "\n",
    "    # Combine the predictions and calculate the accuracy\n",
    "    tmp = np.vstack((pred_setosa, pred_versicolor, pred_virginica)).T\n",
    "    pred_classes = np.argmax(tmp, axis=1)\n",
    "    \n",
    "    true_classes = iris_df.iloc[:, -1].replace({'setosa': 0, 'versicolor': 1, 'virginica': 2}).values\n",
    "    accuracy = (np.sum(pred_classes == true_classes) / len(true_classes)) * 100\n",
    "    misclassified = np.where(true_classes != pred_classes)[0] # get indexes of misclassifications\n",
    "\n",
    "    print(f'\\nKernel:{kernel_name} Arg:{arg} C:{c}')\n",
    "    print(f'Classification accuracy: {accuracy}%\\n')\n",
    "    print(f'Misclassified Indices: {misclassified}')\n",
    "    print(f'Total Misclassified: {len(misclassified)}\\n')\n",
    "    #print(f'Predicted values:\\n{pred_classes}\\n')\n",
    "    #print(f'Actual Values:\\n{true_classes}\\n')\n",
    "    print(\"---------------------------------------------------------------\")"
   ]
  },
  {
   "attachments": {},
   "cell_type": "markdown",
   "metadata": {},
   "source": [
    "## Part 3 Analysis"
   ]
  },
  {
   "attachments": {},
   "cell_type": "markdown",
   "metadata": {},
   "source": [
    "## Lets first look at and evaluate the regularization constant C:"
   ]
  },
  {
   "cell_type": "code",
   "execution_count": 161,
   "metadata": {},
   "outputs": [
    {
     "name": "stdout",
     "output_type": "stream",
     "text": [
      "\n",
      "Kernel:rbf Arg:0.015 C:1\n",
      "Classification accuracy: 74.0%\n",
      "\n",
      "Misclassified Indices: [ 5 12 13 16 18 19 20 22 23 24 26 43 44 54 55 56 58 59 61 62 64 67 69 70\n",
      " 73 76 77 80 81 82 83 85 86 87 90 91 92 95 98]\n",
      "Total Misclassified: 39\n",
      "\n",
      "---------------------------------------------------------------\n",
      "\n",
      "Kernel:rbf Arg:0.015 C:10\n",
      "Classification accuracy: 98.66666666666667%\n",
      "\n",
      "Misclassified Indices: [126 138]\n",
      "Total Misclassified: 2\n",
      "\n",
      "---------------------------------------------------------------\n",
      "\n",
      "Kernel:rbf Arg:0.015 C:100\n",
      "Classification accuracy: 99.33333333333333%\n",
      "\n",
      "Misclassified Indices: [70]\n",
      "Total Misclassified: 1\n",
      "\n",
      "---------------------------------------------------------------\n"
     ]
    }
   ],
   "source": [
    "# We will first test RBF kernel with different values of C\n",
    "c_values = [1, 10, 100]\n",
    "# Loop through the C values and test each one\n",
    "for c in c_values:\n",
    "    SVM(\"rbf\", arg=.015, c=c)"
   ]
  },
  {
   "attachments": {},
   "cell_type": "markdown",
   "metadata": {},
   "source": [
    "<b> RBF Kernel Regularization Constant (C) Analysis:\n",
    "\n",
    "As expected we see that the accuracy increases when C is increased for our RBF kernel.\n",
    "\n",
    "We see that as we increase C the harder the margin becomes and the less crossover is allowed. If we leave gamma the same we see that increasing c \"hardens\" the margin and increases classification accuracy, but at the risk of overfitting."
   ]
  },
  {
   "cell_type": "code",
   "execution_count": 162,
   "metadata": {},
   "outputs": [
    {
     "name": "stdout",
     "output_type": "stream",
     "text": [
      "\n",
      "Kernel:linear Arg:None C:1\n",
      "Classification accuracy: 86.0%\n",
      "\n",
      "Misclassified Indices: [ 59  61  64  70  85 103 105 107 108 116 117 118 119 122 125 129 130 131\n",
      " 133 134 137]\n",
      "Total Misclassified: 21\n",
      "\n",
      "---------------------------------------------------------------\n",
      "\n",
      "Kernel:linear Arg:None C:10\n",
      "Classification accuracy: 86.66666666666667%\n",
      "\n",
      "Misclassified Indices: [ 59  61  70  85 103 105 107 108 116 117 118 119 122 125 129 130 131 133\n",
      " 134 137]\n",
      "Total Misclassified: 20\n",
      "\n",
      "---------------------------------------------------------------\n",
      "\n",
      "Kernel:linear Arg:None C:100\n",
      "Classification accuracy: 88.66666666666667%\n",
      "\n",
      "Misclassified Indices: [ 70 103 105 107 108 116 117 118 119 122 125 129 130 131 133 134 137]\n",
      "Total Misclassified: 17\n",
      "\n",
      "---------------------------------------------------------------\n"
     ]
    }
   ],
   "source": [
    "# Now lets look at the linear kernel with different values of C\n",
    "c_values = [1, 10, 100]\n",
    "# Loop through the C values and test each one\n",
    "for c in c_values:\n",
    "    SVM(\"linear\", arg=None, c=c)"
   ]
  },
  {
   "attachments": {},
   "cell_type": "markdown",
   "metadata": {},
   "source": [
    "<b> Linear Kernel Regularization Constant (C) Analysis:\n",
    "\n",
    "As expected again we see that misclassifications are minimized as we increase our regularization constant. Larger C values minimize misclassifications for both the linear and RBF kernels."
   ]
  },
  {
   "attachments": {},
   "cell_type": "markdown",
   "metadata": {},
   "source": [
    "## Now lets look at adjusting gamma for RBF:"
   ]
  },
  {
   "cell_type": "code",
   "execution_count": 163,
   "metadata": {},
   "outputs": [
    {
     "name": "stdout",
     "output_type": "stream",
     "text": [
      "\n",
      "Kernel:rbf Arg:0.01 C:3\n",
      "Classification accuracy: 99.33333333333333%\n",
      "\n",
      "Misclassified Indices: [70]\n",
      "Total Misclassified: 1\n",
      "\n",
      "---------------------------------------------------------------\n",
      "\n",
      "Kernel:rbf Arg:0.1 C:3\n",
      "Classification accuracy: 98.0%\n",
      "\n",
      "Misclassified Indices: [ 54 126 138]\n",
      "Total Misclassified: 3\n",
      "\n",
      "---------------------------------------------------------------\n",
      "\n",
      "Kernel:rbf Arg:1 C:3\n",
      "Classification accuracy: 94.0%\n",
      "\n",
      "Misclassified Indices: [52 56 70 72 76 77 83 85 86]\n",
      "Total Misclassified: 9\n",
      "\n",
      "---------------------------------------------------------------\n"
     ]
    }
   ],
   "source": [
    "arg_values = [.01, .1, 1]\n",
    "# Loop through the C values and test each one\n",
    "for arg in arg_values:\n",
    "    SVM(\"rbf\", arg=arg, c=3)"
   ]
  },
  {
   "attachments": {},
   "cell_type": "markdown",
   "metadata": {},
   "source": [
    "<b> RBG Gamma (arg) Analysis:\n",
    "\n",
    "With gamma low we see that the rbf creates smoother decision boundaries and allows for the model to generalize the classes well.\n",
    "\n",
    "As we increase the gamma we see that the decision boundary becomes more complex, and we begin to see issues that are cause by overfitting of our decision boundary. This causes a decrease in the classification accuracy from overfitting.\n"
   ]
  },
  {
   "attachments": {},
   "cell_type": "markdown",
   "metadata": {},
   "source": [
    "## Overall Linear vs RBF"
   ]
  },
  {
   "attachments": {},
   "cell_type": "markdown",
   "metadata": {},
   "source": [
    "<b> We see that generally the linear and RBF kernels are both effective classifiers. The difference between the two kernels is that the RBF kernel allows for fitting to models that are not linearly seperable. The RBF function has the additional gamma hyperparamater that controls the rbf shape. This additional hyperparamater allows for the model to be more closely fitted to the data. The RBF beats out the linear classfier on accuracy in most cases with correctly chosen hyperparamaters. A drawback is the RBF function is much easier to accidently overfit if one does not correctly tune the gamma parameter. \n",
    "\n",
    "If the data were clearly linearly seperable it is even possible for the linear kernel to see better performance than the RBF kernel. Although this is not as likely for closely related data. The linear kernel is also less prone to overfitting since it constructs a simple hyperplane. This type of kernel benefits from its simplicity and by being less prone to overfitting. Plotting the data for the two features we are evaluating we see that the versicolor and virginica have a lot of overlapping sections, which is why the RBF functino returns a greater accuracy than the linear kernal(graph below)"
   ]
  },
  {
   "cell_type": "code",
   "execution_count": 165,
   "metadata": {},
   "outputs": [],
   "source": [
    "#iris_df = pd.read_csv(\"iris.csv\")\n",
    "\n",
    "#sns.scatterplot(x=iris_df.iloc[:, 2], y=iris_df.iloc[:, 3], hue=iris_df.iloc[:, -1])"
   ]
  },
  {
   "cell_type": "markdown",
   "metadata": {},
   "source": [
    "## References<br><br>\n",
    "[1] Charu C. Aggarwal, Neural Networks and Deep Learning, Springer 2018<br><br>\n",
    "[2] Ahmad Abdolsaheb, How to make your Tic Tac Toe game unbeatable by using the minimax algorithm,\n",
    "2020, https://www.freecodecamp.org/news/how-to-make-your-tic-tac-toe-game-unbeatable-byusing-\n",
    "the-minimax-algorithm-9d690bad4b37/<br><br>\n",
    "[3] Francois Chollet, Deep Learning with Python, Manning, 2018<br><br>\n",
    "[4] Stephen Cook, The Complexity of Theorem Proving Procedures, Proceedings of the third annual ACM symposium<br><br>\n",
    "on Theory of computing, pp. 151-158, 1971\n",
    "[5] Ian Goodfellow, Yoshua Bengio and Aaron Courville, Deep Learning, MIT Press, 2016,\n",
    "https://www.deeplearningbook.org/<br><br>\n",
    "[6] Patric Honner (Contributing Columnist), Why Winning in Rock-Paper-Scissors (and in Life) Isn’t Everything,\n",
    "What does John Nash’s game theory equilibrium concept look like in Rock-Paper-Scissors?, an article in the\n",
    "online Quanta Magazine, April 2, 2018, https://www.quantamagazine.org/the-game-theory-math-behindrock-\n",
    "paper-scissors-20180402/<br><br>\n",
    "[7] Richard M. Karp, Reducibility Among Combinatorial Problems, In R. E. Miller and J. W. Thatcher (editors),\n",
    "Complexity of Computer Computations, New York: Plenum, pp. 85-103, 1972<br><br>\n",
    "[8] Stephen G. Nash and Ariela Sofer, Linear and Nonlinear Programming, McGraw-Hill, 1996<br><br>\n",
    "[9] Stuart Russell and Peter Norvig, Arti cial Intelligence a Modern Approach Fourth Edition, Pearson, 2020<br><br>\n",
    "[10] Sergios Theodoridis and Konstantinos Koutroumbas, Pattern Recognition Third Edition, San Diego, CA:\n",
    "Academic Press, 2006<br><br>\n",
    "[11] Thomas H. Cormen, Charles E. Leiserson, Ronal L. Rivest and Cli ord Stein, Introduction to Algorithms,\n",
    "3rd Edition, MIT Press, 2009<br><br>\n",
    "[12] David Zuckerman, NP-Complete Problems Have a Version That’s Hard to Approximate, IEEE, Proceedings\n",
    "of the Eighth Annual Structure in Complexity Theory Conference, pp. 305-312, 1993<br><br>\n",
    "[13] David Zuckerman, On Unapproximable Versions of NP-Complete Problems, SIAM Journal on Computing,\n",
    "Volume 25, Issue 6, pp. 1293-1304, 1996"
   ]
  }
 ],
 "metadata": {
  "interpreter": {
   "hash": "aee8b7b246df8f9039afb4144a1f6fd8d2ca17a180786b69acc140d282b71a49"
  },
  "kernelspec": {
   "display_name": "Python 3.9.1 64-bit",
   "name": "python3"
  },
  "language_info": {
   "codemirror_mode": {
    "name": "ipython",
    "version": 3
   },
   "file_extension": ".py",
   "mimetype": "text/x-python",
   "name": "python",
   "nbconvert_exporter": "python",
   "pygments_lexer": "ipython3",
   "version": "3.9.1"
  },
  "orig_nbformat": 4
 },
 "nbformat": 4,
 "nbformat_minor": 2
}
